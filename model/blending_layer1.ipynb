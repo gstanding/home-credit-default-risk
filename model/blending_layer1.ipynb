{
 "cells": [
  {
   "cell_type": "code",
   "execution_count": 34,
   "metadata": {},
   "outputs": [
    {
     "name": "stdout",
     "output_type": "stream",
     "text": [
      "Fold 1 auc score: 0.555786\n",
      "Fold 2 auc score: 0.496216\n",
      "Fold 3 auc score: 0.484502\n",
      "Fold 4 auc score: 0.531258\n",
      "Fold 5 auc score: 0.499029\n",
      "Validate auc score: 0.5123199514860659\n",
      "Off auc score: 0.5079298643992298\n",
      "Fold 1 auc score: 0.471877\n",
      "Fold 2 auc score: 0.514054\n",
      "Fold 3 auc score: 0.509929\n",
      "Fold 4 auc score: 0.514874\n",
      "Fold 5 auc score: 0.491361\n",
      "Validate auc score: 0.4993188535842146\n",
      "Off auc score: 0.49754564517613253\n",
      "Fold 1 auc score: 0.496682\n",
      "Fold 2 auc score: 0.508614\n",
      "Fold 3 auc score: 0.533783\n",
      "Fold 4 auc score: 0.522591\n",
      "Fold 5 auc score: 0.485253\n",
      "Validate auc score: 0.5081690126127256\n",
      "Off auc score: 0.4956298614207518\n",
      "Fold 1 auc score: 0.511242\n",
      "Fold 2 auc score: 0.477768\n",
      "Fold 3 auc score: 0.496770\n",
      "Fold 4 auc score: 0.573182\n",
      "Fold 5 auc score: 0.443396\n",
      "Validate auc score: 0.4975828183515095\n",
      "Off auc score: 0.5073019389892113\n"
     ]
    }
   ],
   "source": [
    "import numpy as np\n",
    "import pandas as pd\n",
    "from sklearn.model_selection import ShuffleSplit, KFold\n",
    "from sklearn.ensemble import RandomForestClassifier, ExtraTreesClassifier, GradientBoostingClassifier\n",
    "from xgboost import XGBClassifier\n",
    "from sklearn.metrics import roc_auc_score\n",
    "class blending_layer1(object):\n",
    "    \n",
    "    def __init__(self, train_x, train_y, val_x, val_y, test_x):\n",
    "        self.train_x = train_x\n",
    "        self.train_y = train_y\n",
    "        self.val_x = val_x\n",
    "        self.val_y = val_y\n",
    "        self.test_x = test_x\n",
    "        \n",
    "    def shuffle_data(self, model=None):\n",
    "        ss = ShuffleSplit(n_splits=4, random_state=0, test_size=.25)\n",
    "        for n_fold, (trn_idx, val_idx) in enumerate(ss.split(self.train_x)):\n",
    "            if n_fold == 0:\n",
    "                rf_train_x = self.train_x[val_idx]\n",
    "                rf_train_y = self.train_y[val_idx]\n",
    "            elif n_fold == 1:\n",
    "                et_train_x = self.train_x[val_idx]\n",
    "                et_train_y = self.train_y[val_idx]\n",
    "            elif n_fold == 2:\n",
    "                gbdt_train_x = self.train_x[val_idx]\n",
    "                gbdt_train_y = self.train_y[val_idx]\n",
    "            else:\n",
    "                xgb_train_x = self.train_x[val_idx]\n",
    "                xgb_train_y = self.train_y[val_idx]\n",
    "        if model == 'rf':\n",
    "            return rf_train_x, rf_train_y\n",
    "        elif model == 'et':\n",
    "            return et_train_x, et_train_y\n",
    "        elif model == 'gbdt':\n",
    "            return gbdt_train_x, gbdt_train_y\n",
    "        elif model == 'xgb':\n",
    "            return xgb_train_x, xgb_train_y\n",
    "        else:\n",
    "            return ss\n",
    "        \n",
    "    def rf_model(self, parameters=None):\n",
    "        rf_train_x, rf_train_y = self.shuffle_data('rf')\n",
    "        kf = KFold(n_splits=5, shuffle=True, random_state=0)\n",
    "        rf_val_pred = np.zeros((rf_train_x.shape[0],))\n",
    "        rf_off_val_pred = np.zeros((self.val_x.shape[0],))\n",
    "        rf_test_pred = np.zeros((self.test_x.shape[0],))\n",
    "        for n_fold, (trn_idx, val_idx) in enumerate(kf.split(rf_train_x)):\n",
    "            rf = RandomForestClassifier(**parameters)\n",
    "            rf.fit(rf_train_x[trn_idx], rf_train_y[trn_idx])\n",
    "            rf_val_pred[val_idx] = rf.predict_proba(rf_train_x[val_idx])[:, 1]\n",
    "            rf_off_val_pred += rf.predict_proba(self.val_x)[:, 1] / kf.n_splits\n",
    "            rf_test_pred += rf.predict_proba(self.test_x)[:, 1] / kf.n_splits\n",
    "            print('Fold %d auc score: %.6f'%(n_fold+1, roc_auc_score(rf_train_y[val_idx], rf_val_pred[val_idx])))\n",
    "        print('Validate auc score:', roc_auc_score(rf_train_y, rf_val_pred))\n",
    "        print('Off auc score:', roc_auc_score(self.val_y, rf_off_val_pred))\n",
    "        return rf_val_pred, rf_off_val_pred, rf_test_pred\n",
    "    \n",
    "    def et_model(self, parameters=None):\n",
    "        et_train_x, et_train_y = self.shuffle_data('et')\n",
    "        kf = KFold(n_splits=5, shuffle=True, random_state=0)\n",
    "        et_val_pred = np.zeros((et_train_x.shape[0],))\n",
    "        et_off_val_pred = np.zeros((self.val_x.shape[0],))\n",
    "        et_test_pred = np.zeros((self.test_x.shape[0],))\n",
    "        for n_fold, (trn_idx, val_idx) in enumerate(kf.split(et_train_x)):\n",
    "            et = ExtraTreesClassifier(**parameters)\n",
    "            et.fit(et_train_x[trn_idx], et_train_y[trn_idx])\n",
    "            et_val_pred[val_idx] = et.predict_proba(et_train_x[val_idx])[:, 1]\n",
    "            et_off_val_pred += et.predict_proba(self.val_x)[:, 1] / kf.n_splits\n",
    "            et_test_pred += et.predict_proba(self.test_x)[:, 1] / kf.n_splits\n",
    "            print('Fold %d auc score: %.6f'%(n_fold+1, roc_auc_score(et_train_y[val_idx], et_val_pred[val_idx])))\n",
    "        print('Validate auc score:', roc_auc_score(et_train_y, et_val_pred))\n",
    "        print('Off auc score:', roc_auc_score(self.val_y, et_off_val_pred))\n",
    "        return et_val_pred, et_off_val_pred, et_test_pred\n",
    "    \n",
    "    def gbdt_model(self, parameters=None):\n",
    "        gbdt_train_x, gbdt_train_y = self.shuffle_data('gbdt')\n",
    "        kf = KFold(n_splits=5, shuffle=True, random_state=0)\n",
    "        gbdt_val_pred = np.zeros((gbdt_train_x.shape[0],))\n",
    "        gbdt_off_val_pred = np.zeros((self.val_x.shape[0],))\n",
    "        gbdt_test_pred = np.zeros((self.test_x.shape[0],))\n",
    "        for n_fold, (trn_idx, val_idx) in enumerate(kf.split(gbdt_train_x)):\n",
    "            gbdt = GradientBoostingClassifier(**parameters)\n",
    "            gbdt.fit(gbdt_train_x[trn_idx], gbdt_train_y[trn_idx])\n",
    "            gbdt_val_pred[val_idx] = gbdt.predict_proba(gbdt_train_x[val_idx])[:, 1]\n",
    "            gbdt_off_val_pred += gbdt.predict_proba(self.val_x)[:, 1] / kf.n_splits\n",
    "            gbdt_test_pred += gbdt.predict_proba(self.test_x)[:, 1] / kf.n_splits\n",
    "            print('Fold %d auc score: %.6f'%(n_fold+1, roc_auc_score(gbdt_train_y[val_idx], gbdt_val_pred[val_idx])))\n",
    "        print('Validate auc score:', roc_auc_score(gbdt_train_y, gbdt_val_pred))\n",
    "        print('Off auc score:', roc_auc_score(self.val_y, gbdt_off_val_pred))\n",
    "        return gbdt_val_pred, gbdt_off_val_pred, gbdt_test_pred\n",
    "    \n",
    "    def xgb_model(self, parameters=None):\n",
    "        xgb_train_x, xgb_train_y = self.shuffle_data('xgb')\n",
    "        kf = KFold(n_splits=5, shuffle=True, random_state=0)\n",
    "        xgb_val_pred = np.zeros((xgb_train_x.shape[0],))\n",
    "        xgb_off_val_pred = np.zeros((self.val_x.shape[0],))\n",
    "        xgb_test_pred = np.zeros((self.test_x.shape[0],))\n",
    "        for n_fold, (trn_idx, val_idx) in enumerate(kf.split(xgb_train_x)):\n",
    "            xgb = XGBClassifier(**parameters)\n",
    "            xgb.fit(xgb_train_x[trn_idx], xgb_train_y[trn_idx])\n",
    "            xgb_val_pred[val_idx] = xgb.predict_proba(xgb_train_x[val_idx])[:, 1]\n",
    "            xgb_off_val_pred += xgb.predict_proba(self.val_x)[:, 1] / kf.n_splits\n",
    "            xgb_test_pred += xgb.predict_proba(self.test_x)[:, 1] / kf.n_splits\n",
    "            print('Fold %d auc score: %.6f'%(n_fold+1, roc_auc_score(xgb_train_y[val_idx], xgb_val_pred[val_idx])))\n",
    "        print('Validate auc score:', roc_auc_score(xgb_train_y, xgb_val_pred))\n",
    "        print('Off auc score:', roc_auc_score(self.val_y, xgb_off_val_pred))\n",
    "        return xgb_val_pred, xgb_off_val_pred, xgb_test_pred\n",
    "    \n",
    "    def merge_data(self):\n",
    "        rf_val_pred, rf_off_val_pred, rf_test_pred = self.rf_model(parameters={\"n_jobs\": -1})\n",
    "        et_val_pred, et_off_val_pred, et_test_pred = self.et_model(parameters={\"n_jobs\": -1})\n",
    "        gbdt_val_pred, gbdt_off_val_pred, gbdt_test_pred = self.gbdt_model(parameters={\"learning_rate\": 0.3})\n",
    "        xgb_val_pred, xgb_off_val_pred, xgb_test_pred = self.xgb_model(parameters={\"n_jobs\": -1})\n",
    "        val_pred = np.zeros((self.train_x.shape[0],))\n",
    "        ss = self.shuffle_data()\n",
    "        for n_fold, (trn_idx, val_idx) in enumerate(ss.split(self.train_x)):\n",
    "            if n_fold == 0:\n",
    "                val_pred[val_idx] = rf_val_pred\n",
    "            elif n_fold == 1:\n",
    "                val_pred[val_idx] = et_val_pred\n",
    "            elif n_fold == 2:\n",
    "                val_pred[val_idx] = gbdt_val_pred\n",
    "            else:\n",
    "                val_pred[val_idx] = xgb_val_pred\n",
    "        off_val_pred = (rf_off_val_pred + et_off_val_pred + gbdt_off_val_pred + xgb_off_val_pred) / 4\n",
    "        test_pred = (rf_test_pred + et_test_pred + gbdt_test_pred + xgb_test_pred) / 4\n",
    "        return val_pred, off_val_pred, test_pred\n",
    "                \n",
    "train_x, train_y, val_x, val_y, test_x = np.random.random((7000,10)), np.random.randint(0,2,size=(7000,)), np.random.random((3000,10)), np.random.randint(0,2,size=(3000,)), np.random.random((3000,10))\n",
    "bld_layer = blending_layer1(train_x, train_y, val_x, val_y, test_x)\n",
    "val_pred, off_val_pred, test_pred = bld_layer.merge_data()"
   ]
  },
  {
   "cell_type": "code",
   "execution_count": 35,
   "metadata": {},
   "outputs": [
    {
     "name": "stdout",
     "output_type": "stream",
     "text": [
      "(7000,) (3000,) (3000,)\n"
     ]
    }
   ],
   "source": [
    "print(val_pred.shape, off_val_pred.shape, test_pred.shape)"
   ]
  },
  {
   "cell_type": "code",
   "execution_count": 36,
   "metadata": {
    "collapsed": true
   },
   "outputs": [],
   "source": [
    "train_x = pd.read_csv('../data/train_.csv')\n",
    "test_x = pd.read_csv('../data/test_.csv')\n",
    "train_y = pd.read_csv('../data/y_.csv')\n",
    "val_x = pd.read_csv('../data/val_x_.csv')\n",
    "val_y = pd.read_csv('../data/val_y_.csv')"
   ]
  },
  {
   "cell_type": "code",
   "execution_count": 37,
   "metadata": {
    "collapsed": true
   },
   "outputs": [],
   "source": [
    "val_x = val_x[train_x.columns]\n",
    "test_x = test_x[train_x.columns]"
   ]
  },
  {
   "cell_type": "code",
   "execution_count": 38,
   "metadata": {
    "collapsed": true
   },
   "outputs": [],
   "source": [
    "train_x, train_y, val_x, val_y, test_x = train_x.values, train_y.values, val_x.values, val_y.values, test_x.values"
   ]
  },
  {
   "cell_type": "code",
   "execution_count": 39,
   "metadata": {},
   "outputs": [
    {
     "name": "stderr",
     "output_type": "stream",
     "text": [
      "F:\\KG\\software\\anaconda3\\envs\\tensorflow\\lib\\site-packages\\ipykernel_launcher.py:50: DataConversionWarning: A column-vector y was passed when a 1d array was expected. Please change the shape of y to (n_samples,), for example using ravel().\n"
     ]
    },
    {
     "name": "stdout",
     "output_type": "stream",
     "text": [
      "Fold 1 auc score: 0.652681\n"
     ]
    },
    {
     "name": "stderr",
     "output_type": "stream",
     "text": [
      "F:\\KG\\software\\anaconda3\\envs\\tensorflow\\lib\\site-packages\\ipykernel_launcher.py:50: DataConversionWarning: A column-vector y was passed when a 1d array was expected. Please change the shape of y to (n_samples,), for example using ravel().\n"
     ]
    },
    {
     "name": "stdout",
     "output_type": "stream",
     "text": [
      "Fold 2 auc score: 0.628044\n"
     ]
    },
    {
     "name": "stderr",
     "output_type": "stream",
     "text": [
      "F:\\KG\\software\\anaconda3\\envs\\tensorflow\\lib\\site-packages\\ipykernel_launcher.py:50: DataConversionWarning: A column-vector y was passed when a 1d array was expected. Please change the shape of y to (n_samples,), for example using ravel().\n"
     ]
    },
    {
     "name": "stdout",
     "output_type": "stream",
     "text": [
      "Fold 3 auc score: 0.652528\n"
     ]
    },
    {
     "name": "stderr",
     "output_type": "stream",
     "text": [
      "F:\\KG\\software\\anaconda3\\envs\\tensorflow\\lib\\site-packages\\ipykernel_launcher.py:50: DataConversionWarning: A column-vector y was passed when a 1d array was expected. Please change the shape of y to (n_samples,), for example using ravel().\n"
     ]
    },
    {
     "name": "stdout",
     "output_type": "stream",
     "text": [
      "Fold 4 auc score: 0.634571\n"
     ]
    },
    {
     "name": "stderr",
     "output_type": "stream",
     "text": [
      "F:\\KG\\software\\anaconda3\\envs\\tensorflow\\lib\\site-packages\\ipykernel_launcher.py:50: DataConversionWarning: A column-vector y was passed when a 1d array was expected. Please change the shape of y to (n_samples,), for example using ravel().\n"
     ]
    },
    {
     "name": "stdout",
     "output_type": "stream",
     "text": [
      "Fold 5 auc score: 0.642686\n",
      "Validate auc score: 0.6422080656789375\n",
      "Off auc score: 0.7042383136520015\n"
     ]
    },
    {
     "name": "stderr",
     "output_type": "stream",
     "text": [
      "F:\\KG\\software\\anaconda3\\envs\\tensorflow\\lib\\site-packages\\ipykernel_launcher.py:67: DataConversionWarning: A column-vector y was passed when a 1d array was expected. Please change the shape of y to (n_samples,), for example using ravel().\n"
     ]
    },
    {
     "name": "stdout",
     "output_type": "stream",
     "text": [
      "Fold 1 auc score: 0.626869\n"
     ]
    },
    {
     "name": "stderr",
     "output_type": "stream",
     "text": [
      "F:\\KG\\software\\anaconda3\\envs\\tensorflow\\lib\\site-packages\\ipykernel_launcher.py:67: DataConversionWarning: A column-vector y was passed when a 1d array was expected. Please change the shape of y to (n_samples,), for example using ravel().\n"
     ]
    },
    {
     "name": "stdout",
     "output_type": "stream",
     "text": [
      "Fold 2 auc score: 0.614348\n"
     ]
    },
    {
     "name": "stderr",
     "output_type": "stream",
     "text": [
      "F:\\KG\\software\\anaconda3\\envs\\tensorflow\\lib\\site-packages\\ipykernel_launcher.py:67: DataConversionWarning: A column-vector y was passed when a 1d array was expected. Please change the shape of y to (n_samples,), for example using ravel().\n"
     ]
    },
    {
     "name": "stdout",
     "output_type": "stream",
     "text": [
      "Fold 3 auc score: 0.626784\n"
     ]
    },
    {
     "name": "stderr",
     "output_type": "stream",
     "text": [
      "F:\\KG\\software\\anaconda3\\envs\\tensorflow\\lib\\site-packages\\ipykernel_launcher.py:67: DataConversionWarning: A column-vector y was passed when a 1d array was expected. Please change the shape of y to (n_samples,), for example using ravel().\n"
     ]
    },
    {
     "name": "stdout",
     "output_type": "stream",
     "text": [
      "Fold 4 auc score: 0.639442\n"
     ]
    },
    {
     "name": "stderr",
     "output_type": "stream",
     "text": [
      "F:\\KG\\software\\anaconda3\\envs\\tensorflow\\lib\\site-packages\\ipykernel_launcher.py:67: DataConversionWarning: A column-vector y was passed when a 1d array was expected. Please change the shape of y to (n_samples,), for example using ravel().\n"
     ]
    },
    {
     "name": "stdout",
     "output_type": "stream",
     "text": [
      "Fold 5 auc score: 0.625295\n",
      "Validate auc score: 0.6262574263034375\n",
      "Off auc score: 0.6935119859877666\n"
     ]
    },
    {
     "name": "stderr",
     "output_type": "stream",
     "text": [
      "F:\\KG\\software\\anaconda3\\envs\\tensorflow\\lib\\site-packages\\sklearn\\utils\\validation.py:547: DataConversionWarning: A column-vector y was passed when a 1d array was expected. Please change the shape of y to (n_samples, ), for example using ravel().\n",
      "  y = column_or_1d(y, warn=True)\n"
     ]
    },
    {
     "name": "stdout",
     "output_type": "stream",
     "text": [
      "Fold 1 auc score: 0.746407\n",
      "Fold 2 auc score: 0.763997\n",
      "Fold 3 auc score: 0.759598\n",
      "Fold 4 auc score: 0.755206\n",
      "Fold 5 auc score: 0.770662\n",
      "Validate auc score: 0.7590887182386873\n",
      "Off auc score: 0.7547450717623077\n"
     ]
    },
    {
     "name": "stderr",
     "output_type": "stream",
     "text": [
      "F:\\KG\\software\\anaconda3\\envs\\tensorflow\\lib\\site-packages\\sklearn\\preprocessing\\label.py:95: DataConversionWarning: A column-vector y was passed when a 1d array was expected. Please change the shape of y to (n_samples, ), for example using ravel().\n",
      "  y = column_or_1d(y, warn=True)\n",
      "F:\\KG\\software\\anaconda3\\envs\\tensorflow\\lib\\site-packages\\sklearn\\preprocessing\\label.py:128: DataConversionWarning: A column-vector y was passed when a 1d array was expected. Please change the shape of y to (n_samples, ), for example using ravel().\n",
      "  y = column_or_1d(y, warn=True)\n"
     ]
    },
    {
     "name": "stdout",
     "output_type": "stream",
     "text": [
      "Fold 1 auc score: 0.769340\n"
     ]
    },
    {
     "name": "stderr",
     "output_type": "stream",
     "text": [
      "F:\\KG\\software\\anaconda3\\envs\\tensorflow\\lib\\site-packages\\sklearn\\preprocessing\\label.py:95: DataConversionWarning: A column-vector y was passed when a 1d array was expected. Please change the shape of y to (n_samples, ), for example using ravel().\n",
      "  y = column_or_1d(y, warn=True)\n",
      "F:\\KG\\software\\anaconda3\\envs\\tensorflow\\lib\\site-packages\\sklearn\\preprocessing\\label.py:128: DataConversionWarning: A column-vector y was passed when a 1d array was expected. Please change the shape of y to (n_samples, ), for example using ravel().\n",
      "  y = column_or_1d(y, warn=True)\n"
     ]
    },
    {
     "name": "stdout",
     "output_type": "stream",
     "text": [
      "Fold 2 auc score: 0.764185\n"
     ]
    },
    {
     "name": "stderr",
     "output_type": "stream",
     "text": [
      "F:\\KG\\software\\anaconda3\\envs\\tensorflow\\lib\\site-packages\\sklearn\\preprocessing\\label.py:95: DataConversionWarning: A column-vector y was passed when a 1d array was expected. Please change the shape of y to (n_samples, ), for example using ravel().\n",
      "  y = column_or_1d(y, warn=True)\n",
      "F:\\KG\\software\\anaconda3\\envs\\tensorflow\\lib\\site-packages\\sklearn\\preprocessing\\label.py:128: DataConversionWarning: A column-vector y was passed when a 1d array was expected. Please change the shape of y to (n_samples, ), for example using ravel().\n",
      "  y = column_or_1d(y, warn=True)\n"
     ]
    },
    {
     "name": "stdout",
     "output_type": "stream",
     "text": [
      "Fold 3 auc score: 0.762763\n"
     ]
    },
    {
     "name": "stderr",
     "output_type": "stream",
     "text": [
      "F:\\KG\\software\\anaconda3\\envs\\tensorflow\\lib\\site-packages\\sklearn\\preprocessing\\label.py:95: DataConversionWarning: A column-vector y was passed when a 1d array was expected. Please change the shape of y to (n_samples, ), for example using ravel().\n",
      "  y = column_or_1d(y, warn=True)\n",
      "F:\\KG\\software\\anaconda3\\envs\\tensorflow\\lib\\site-packages\\sklearn\\preprocessing\\label.py:128: DataConversionWarning: A column-vector y was passed when a 1d array was expected. Please change the shape of y to (n_samples, ), for example using ravel().\n",
      "  y = column_or_1d(y, warn=True)\n"
     ]
    },
    {
     "name": "stdout",
     "output_type": "stream",
     "text": [
      "Fold 4 auc score: 0.748868\n"
     ]
    },
    {
     "name": "stderr",
     "output_type": "stream",
     "text": [
      "F:\\KG\\software\\anaconda3\\envs\\tensorflow\\lib\\site-packages\\sklearn\\preprocessing\\label.py:95: DataConversionWarning: A column-vector y was passed when a 1d array was expected. Please change the shape of y to (n_samples, ), for example using ravel().\n",
      "  y = column_or_1d(y, warn=True)\n",
      "F:\\KG\\software\\anaconda3\\envs\\tensorflow\\lib\\site-packages\\sklearn\\preprocessing\\label.py:128: DataConversionWarning: A column-vector y was passed when a 1d array was expected. Please change the shape of y to (n_samples, ), for example using ravel().\n",
      "  y = column_or_1d(y, warn=True)\n"
     ]
    },
    {
     "name": "stdout",
     "output_type": "stream",
     "text": [
      "Fold 5 auc score: 0.761270\n",
      "Validate auc score: 0.761046324383174\n",
      "Off auc score: 0.7526743359143175\n"
     ]
    }
   ],
   "source": [
    "bld_layer = blending_layer1(train_x, train_y, val_x, val_y, test_x)\n",
    "val_pred, off_val_pred, test_pred = bld_layer.merge_data()"
   ]
  },
  {
   "cell_type": "code",
   "execution_count": 40,
   "metadata": {},
   "outputs": [
    {
     "name": "stdout",
     "output_type": "stream",
     "text": [
      "(276759,) (30752,) (48744,)\n"
     ]
    }
   ],
   "source": [
    "print(val_pred.shape, off_val_pred.shape, test_pred.shape)"
   ]
  },
  {
   "cell_type": "code",
   "execution_count": 41,
   "metadata": {
    "collapsed": true
   },
   "outputs": [],
   "source": [
    "val_pred, off_val_pred, test_pred = pd.DataFrame(val_pred), pd.DataFrame(off_val_pred), pd.DataFrame(test_pred)"
   ]
  },
  {
   "cell_type": "code",
   "execution_count": 42,
   "metadata": {},
   "outputs": [
    {
     "data": {
      "text/html": [
       "<div>\n",
       "<style>\n",
       "    .dataframe thead tr:only-child th {\n",
       "        text-align: right;\n",
       "    }\n",
       "\n",
       "    .dataframe thead th {\n",
       "        text-align: left;\n",
       "    }\n",
       "\n",
       "    .dataframe tbody tr th {\n",
       "        vertical-align: top;\n",
       "    }\n",
       "</style>\n",
       "<table border=\"1\" class=\"dataframe\">\n",
       "  <thead>\n",
       "    <tr style=\"text-align: right;\">\n",
       "      <th></th>\n",
       "      <th>0</th>\n",
       "    </tr>\n",
       "  </thead>\n",
       "  <tbody>\n",
       "    <tr>\n",
       "      <th>0</th>\n",
       "      <td>0.000000</td>\n",
       "    </tr>\n",
       "    <tr>\n",
       "      <th>1</th>\n",
       "      <td>0.025713</td>\n",
       "    </tr>\n",
       "    <tr>\n",
       "      <th>2</th>\n",
       "      <td>0.000000</td>\n",
       "    </tr>\n",
       "    <tr>\n",
       "      <th>3</th>\n",
       "      <td>0.246714</td>\n",
       "    </tr>\n",
       "    <tr>\n",
       "      <th>4</th>\n",
       "      <td>0.075040</td>\n",
       "    </tr>\n",
       "  </tbody>\n",
       "</table>\n",
       "</div>"
      ],
      "text/plain": [
       "          0\n",
       "0  0.000000\n",
       "1  0.025713\n",
       "2  0.000000\n",
       "3  0.246714\n",
       "4  0.075040"
      ]
     },
     "execution_count": 42,
     "metadata": {},
     "output_type": "execute_result"
    }
   ],
   "source": [
    "val_pred.head()"
   ]
  },
  {
   "cell_type": "code",
   "execution_count": 43,
   "metadata": {
    "collapsed": true
   },
   "outputs": [],
   "source": [
    "val_pred.to_csv('../data/val_pred.csv', index=False)\n",
    "off_val_pred.to_csv('../data/off_val_pred.csv', index=False)\n",
    "test_pred.to_csv('../data/test_pred.csv',index=False)"
   ]
  },
  {
   "cell_type": "code",
   "execution_count": 26,
   "metadata": {},
   "outputs": [
    {
     "name": "stdout",
     "output_type": "stream",
     "text": [
      "(508761, 388) (508761, 1) (30752, 388) (30752, 1) (48744, 388)\n"
     ]
    }
   ],
   "source": [
    "#print(train_x.shape, train_y.shape, val_x.shape, val_y.shape,test_x.shape)"
   ]
  },
  {
   "cell_type": "code",
   "execution_count": 18,
   "metadata": {},
   "outputs": [
    {
     "data": {
      "text/html": [
       "<div>\n",
       "<style>\n",
       "    .dataframe thead tr:only-child th {\n",
       "        text-align: right;\n",
       "    }\n",
       "\n",
       "    .dataframe thead th {\n",
       "        text-align: left;\n",
       "    }\n",
       "\n",
       "    .dataframe tbody tr th {\n",
       "        vertical-align: top;\n",
       "    }\n",
       "</style>\n",
       "<table border=\"1\" class=\"dataframe\">\n",
       "  <thead>\n",
       "    <tr style=\"text-align: right;\">\n",
       "      <th></th>\n",
       "      <th>NAME_CONTRACT_TYPE</th>\n",
       "      <th>CODE_GENDER</th>\n",
       "      <th>FLAG_OWN_CAR</th>\n",
       "      <th>FLAG_OWN_REALTY</th>\n",
       "      <th>CNT_CHILDREN</th>\n",
       "      <th>AMT_INCOME_TOTAL</th>\n",
       "      <th>AMT_CREDIT</th>\n",
       "      <th>AMT_ANNUITY</th>\n",
       "      <th>AMT_GOODS_PRICE</th>\n",
       "      <th>NAME_TYPE_SUITE</th>\n",
       "      <th>...</th>\n",
       "      <th>inst_AMT_PAYMENT</th>\n",
       "      <th>EXT_SOURCE_1over2_NAminus1_Add0.1</th>\n",
       "      <th>EXT_SOURCE_2over1_NAminus1_Add0.1</th>\n",
       "      <th>EXT_SOURCE_1over3_NAminus1_Add0.1</th>\n",
       "      <th>EXT_SOURCE_3over1_NAminus1_Add0.1</th>\n",
       "      <th>EXT_SOURCE_2over3_NAminus1_Add0.1</th>\n",
       "      <th>EXT_SOURCE_3over2_NAminus1_Add0.1</th>\n",
       "      <th>EXT_SOURCE_1_log</th>\n",
       "      <th>EXT_SOURCE_2_log</th>\n",
       "      <th>EXT_SOURCE_3_log</th>\n",
       "    </tr>\n",
       "  </thead>\n",
       "  <tbody>\n",
       "    <tr>\n",
       "      <th>0</th>\n",
       "      <td>0.0</td>\n",
       "      <td>1.0</td>\n",
       "      <td>0.0</td>\n",
       "      <td>0.0</td>\n",
       "      <td>0.0</td>\n",
       "      <td>112500.0</td>\n",
       "      <td>495000.0</td>\n",
       "      <td>21933.0</td>\n",
       "      <td>495000.0</td>\n",
       "      <td>0.0</td>\n",
       "      <td>...</td>\n",
       "      <td>37261.1100</td>\n",
       "      <td>1.194</td>\n",
       "      <td>0.8370</td>\n",
       "      <td>1.369</td>\n",
       "      <td>0.7305</td>\n",
       "      <td>1.1460</td>\n",
       "      <td>0.8726</td>\n",
       "      <td>0.5225</td>\n",
       "      <td>0.4434</td>\n",
       "      <td>0.3880</td>\n",
       "    </tr>\n",
       "    <tr>\n",
       "      <th>1</th>\n",
       "      <td>0.0</td>\n",
       "      <td>1.0</td>\n",
       "      <td>1.0</td>\n",
       "      <td>0.0</td>\n",
       "      <td>0.0</td>\n",
       "      <td>213750.0</td>\n",
       "      <td>3060000.0</td>\n",
       "      <td>77485.5</td>\n",
       "      <td>3060000.0</td>\n",
       "      <td>0.0</td>\n",
       "      <td>...</td>\n",
       "      <td>4135.2410</td>\n",
       "      <td>0.736</td>\n",
       "      <td>1.3580</td>\n",
       "      <td>1.291</td>\n",
       "      <td>0.7744</td>\n",
       "      <td>1.7550</td>\n",
       "      <td>0.5700</td>\n",
       "      <td>0.4165</td>\n",
       "      <td>0.5527</td>\n",
       "      <td>0.3203</td>\n",
       "    </tr>\n",
       "    <tr>\n",
       "      <th>2</th>\n",
       "      <td>0.0</td>\n",
       "      <td>1.0</td>\n",
       "      <td>0.0</td>\n",
       "      <td>0.0</td>\n",
       "      <td>0.0</td>\n",
       "      <td>450000.0</td>\n",
       "      <td>1417495.5</td>\n",
       "      <td>136687.5</td>\n",
       "      <td>1363500.0</td>\n",
       "      <td>0.0</td>\n",
       "      <td>...</td>\n",
       "      <td>33406.4650</td>\n",
       "      <td>1.487</td>\n",
       "      <td>0.6724</td>\n",
       "      <td>1.409</td>\n",
       "      <td>0.7100</td>\n",
       "      <td>0.9473</td>\n",
       "      <td>1.0560</td>\n",
       "      <td>0.6045</td>\n",
       "      <td>0.4224</td>\n",
       "      <td>0.4448</td>\n",
       "    </tr>\n",
       "    <tr>\n",
       "      <th>3</th>\n",
       "      <td>0.0</td>\n",
       "      <td>0.0</td>\n",
       "      <td>0.0</td>\n",
       "      <td>0.0</td>\n",
       "      <td>0.0</td>\n",
       "      <td>112500.0</td>\n",
       "      <td>467257.5</td>\n",
       "      <td>21910.5</td>\n",
       "      <td>328500.0</td>\n",
       "      <td>0.0</td>\n",
       "      <td>...</td>\n",
       "      <td>5104.3423</td>\n",
       "      <td>-1.522</td>\n",
       "      <td>-0.6567</td>\n",
       "      <td>-1.567</td>\n",
       "      <td>-0.6377</td>\n",
       "      <td>1.0290</td>\n",
       "      <td>0.9710</td>\n",
       "      <td>-1.0000</td>\n",
       "      <td>0.3994</td>\n",
       "      <td>0.3880</td>\n",
       "    </tr>\n",
       "    <tr>\n",
       "      <th>4</th>\n",
       "      <td>0.0</td>\n",
       "      <td>0.0</td>\n",
       "      <td>0.0</td>\n",
       "      <td>1.0</td>\n",
       "      <td>0.0</td>\n",
       "      <td>157500.0</td>\n",
       "      <td>848745.0</td>\n",
       "      <td>36090.0</td>\n",
       "      <td>675000.0</td>\n",
       "      <td>0.0</td>\n",
       "      <td>...</td>\n",
       "      <td>9121.0960</td>\n",
       "      <td>-1.067</td>\n",
       "      <td>-0.9365</td>\n",
       "      <td>-1.820</td>\n",
       "      <td>-0.5493</td>\n",
       "      <td>1.7050</td>\n",
       "      <td>0.5864</td>\n",
       "      <td>-1.0000</td>\n",
       "      <td>0.5557</td>\n",
       "      <td>0.3325</td>\n",
       "    </tr>\n",
       "  </tbody>\n",
       "</table>\n",
       "<p>5 rows × 388 columns</p>\n",
       "</div>"
      ],
      "text/plain": [
       "   NAME_CONTRACT_TYPE  CODE_GENDER  FLAG_OWN_CAR  FLAG_OWN_REALTY  \\\n",
       "0                 0.0          1.0           0.0              0.0   \n",
       "1                 0.0          1.0           1.0              0.0   \n",
       "2                 0.0          1.0           0.0              0.0   \n",
       "3                 0.0          0.0           0.0              0.0   \n",
       "4                 0.0          0.0           0.0              1.0   \n",
       "\n",
       "   CNT_CHILDREN  AMT_INCOME_TOTAL  AMT_CREDIT  AMT_ANNUITY  AMT_GOODS_PRICE  \\\n",
       "0           0.0          112500.0    495000.0      21933.0         495000.0   \n",
       "1           0.0          213750.0   3060000.0      77485.5        3060000.0   \n",
       "2           0.0          450000.0   1417495.5     136687.5        1363500.0   \n",
       "3           0.0          112500.0    467257.5      21910.5         328500.0   \n",
       "4           0.0          157500.0    848745.0      36090.0         675000.0   \n",
       "\n",
       "   NAME_TYPE_SUITE        ...         inst_AMT_PAYMENT  \\\n",
       "0              0.0        ...               37261.1100   \n",
       "1              0.0        ...                4135.2410   \n",
       "2              0.0        ...               33406.4650   \n",
       "3              0.0        ...                5104.3423   \n",
       "4              0.0        ...                9121.0960   \n",
       "\n",
       "   EXT_SOURCE_1over2_NAminus1_Add0.1  EXT_SOURCE_2over1_NAminus1_Add0.1  \\\n",
       "0                              1.194                             0.8370   \n",
       "1                              0.736                             1.3580   \n",
       "2                              1.487                             0.6724   \n",
       "3                             -1.522                            -0.6567   \n",
       "4                             -1.067                            -0.9365   \n",
       "\n",
       "   EXT_SOURCE_1over3_NAminus1_Add0.1  EXT_SOURCE_3over1_NAminus1_Add0.1  \\\n",
       "0                              1.369                             0.7305   \n",
       "1                              1.291                             0.7744   \n",
       "2                              1.409                             0.7100   \n",
       "3                             -1.567                            -0.6377   \n",
       "4                             -1.820                            -0.5493   \n",
       "\n",
       "   EXT_SOURCE_2over3_NAminus1_Add0.1  EXT_SOURCE_3over2_NAminus1_Add0.1  \\\n",
       "0                             1.1460                             0.8726   \n",
       "1                             1.7550                             0.5700   \n",
       "2                             0.9473                             1.0560   \n",
       "3                             1.0290                             0.9710   \n",
       "4                             1.7050                             0.5864   \n",
       "\n",
       "   EXT_SOURCE_1_log  EXT_SOURCE_2_log  EXT_SOURCE_3_log  \n",
       "0            0.5225            0.4434            0.3880  \n",
       "1            0.4165            0.5527            0.3203  \n",
       "2            0.6045            0.4224            0.4448  \n",
       "3           -1.0000            0.3994            0.3880  \n",
       "4           -1.0000            0.5557            0.3325  \n",
       "\n",
       "[5 rows x 388 columns]"
      ]
     },
     "execution_count": 18,
     "metadata": {},
     "output_type": "execute_result"
    }
   ],
   "source": [
    "#train_x.head()"
   ]
  },
  {
   "cell_type": "code",
   "execution_count": 19,
   "metadata": {},
   "outputs": [
    {
     "data": {
      "text/html": [
       "<div>\n",
       "<style>\n",
       "    .dataframe thead tr:only-child th {\n",
       "        text-align: right;\n",
       "    }\n",
       "\n",
       "    .dataframe thead th {\n",
       "        text-align: left;\n",
       "    }\n",
       "\n",
       "    .dataframe tbody tr th {\n",
       "        vertical-align: top;\n",
       "    }\n",
       "</style>\n",
       "<table border=\"1\" class=\"dataframe\">\n",
       "  <thead>\n",
       "    <tr style=\"text-align: right;\">\n",
       "      <th></th>\n",
       "      <th>NAME_CONTRACT_TYPE</th>\n",
       "      <th>CODE_GENDER</th>\n",
       "      <th>FLAG_OWN_CAR</th>\n",
       "      <th>FLAG_OWN_REALTY</th>\n",
       "      <th>CNT_CHILDREN</th>\n",
       "      <th>AMT_INCOME_TOTAL</th>\n",
       "      <th>AMT_CREDIT</th>\n",
       "      <th>AMT_ANNUITY</th>\n",
       "      <th>AMT_GOODS_PRICE</th>\n",
       "      <th>NAME_TYPE_SUITE</th>\n",
       "      <th>...</th>\n",
       "      <th>inst_AMT_PAYMENT</th>\n",
       "      <th>EXT_SOURCE_1over2_NAminus1_Add0.1</th>\n",
       "      <th>EXT_SOURCE_2over1_NAminus1_Add0.1</th>\n",
       "      <th>EXT_SOURCE_1over3_NAminus1_Add0.1</th>\n",
       "      <th>EXT_SOURCE_3over1_NAminus1_Add0.1</th>\n",
       "      <th>EXT_SOURCE_2over3_NAminus1_Add0.1</th>\n",
       "      <th>EXT_SOURCE_3over2_NAminus1_Add0.1</th>\n",
       "      <th>EXT_SOURCE_1_log</th>\n",
       "      <th>EXT_SOURCE_2_log</th>\n",
       "      <th>EXT_SOURCE_3_log</th>\n",
       "    </tr>\n",
       "  </thead>\n",
       "  <tbody>\n",
       "    <tr>\n",
       "      <th>0</th>\n",
       "      <td>0</td>\n",
       "      <td>1</td>\n",
       "      <td>0</td>\n",
       "      <td>0</td>\n",
       "      <td>0</td>\n",
       "      <td>135000.0</td>\n",
       "      <td>568800.0</td>\n",
       "      <td>20560.5</td>\n",
       "      <td>450000.0</td>\n",
       "      <td>0</td>\n",
       "      <td>...</td>\n",
       "      <td>5885.1323</td>\n",
       "      <td>0.9585</td>\n",
       "      <td>1.0430</td>\n",
       "      <td>3.2850</td>\n",
       "      <td>0.3044</td>\n",
       "      <td>3.4280</td>\n",
       "      <td>0.2917</td>\n",
       "      <td>0.5610</td>\n",
       "      <td>0.5820</td>\n",
       "      <td>0.1480</td>\n",
       "    </tr>\n",
       "    <tr>\n",
       "      <th>1</th>\n",
       "      <td>0</td>\n",
       "      <td>0</td>\n",
       "      <td>0</td>\n",
       "      <td>0</td>\n",
       "      <td>0</td>\n",
       "      <td>99000.0</td>\n",
       "      <td>222768.0</td>\n",
       "      <td>17370.0</td>\n",
       "      <td>180000.0</td>\n",
       "      <td>0</td>\n",
       "      <td>...</td>\n",
       "      <td>6240.2050</td>\n",
       "      <td>1.6980</td>\n",
       "      <td>0.5890</td>\n",
       "      <td>1.2480</td>\n",
       "      <td>0.8013</td>\n",
       "      <td>0.7350</td>\n",
       "      <td>1.3600</td>\n",
       "      <td>0.4480</td>\n",
       "      <td>0.2559</td>\n",
       "      <td>0.3599</td>\n",
       "    </tr>\n",
       "    <tr>\n",
       "      <th>2</th>\n",
       "      <td>0</td>\n",
       "      <td>0</td>\n",
       "      <td>1</td>\n",
       "      <td>0</td>\n",
       "      <td>0</td>\n",
       "      <td>202500.0</td>\n",
       "      <td>663264.0</td>\n",
       "      <td>69777.0</td>\n",
       "      <td>630000.0</td>\n",
       "      <td>-1</td>\n",
       "      <td>...</td>\n",
       "      <td>9740.2350</td>\n",
       "      <td>-1.1250</td>\n",
       "      <td>-0.8887</td>\n",
       "      <td>-1.2660</td>\n",
       "      <td>-0.7900</td>\n",
       "      <td>1.1250</td>\n",
       "      <td>0.8890</td>\n",
       "      <td>-1.0000</td>\n",
       "      <td>0.5303</td>\n",
       "      <td>0.4768</td>\n",
       "    </tr>\n",
       "    <tr>\n",
       "      <th>3</th>\n",
       "      <td>0</td>\n",
       "      <td>1</td>\n",
       "      <td>0</td>\n",
       "      <td>0</td>\n",
       "      <td>2</td>\n",
       "      <td>315000.0</td>\n",
       "      <td>1575000.0</td>\n",
       "      <td>49018.5</td>\n",
       "      <td>1575000.0</td>\n",
       "      <td>0</td>\n",
       "      <td>...</td>\n",
       "      <td>4356.7314</td>\n",
       "      <td>1.0260</td>\n",
       "      <td>0.9740</td>\n",
       "      <td>0.8780</td>\n",
       "      <td>1.1390</td>\n",
       "      <td>0.8555</td>\n",
       "      <td>1.1690</td>\n",
       "      <td>0.4224</td>\n",
       "      <td>0.4119</td>\n",
       "      <td>0.4780</td>\n",
       "    </tr>\n",
       "    <tr>\n",
       "      <th>4</th>\n",
       "      <td>0</td>\n",
       "      <td>0</td>\n",
       "      <td>1</td>\n",
       "      <td>1</td>\n",
       "      <td>1</td>\n",
       "      <td>180000.0</td>\n",
       "      <td>625500.0</td>\n",
       "      <td>32067.0</td>\n",
       "      <td>625500.0</td>\n",
       "      <td>0</td>\n",
       "      <td>...</td>\n",
       "      <td>11100.3380</td>\n",
       "      <td>0.5747</td>\n",
       "      <td>1.7400</td>\n",
       "      <td>-0.3357</td>\n",
       "      <td>-2.9790</td>\n",
       "      <td>-0.5840</td>\n",
       "      <td>-1.7120</td>\n",
       "      <td>0.1841</td>\n",
       "      <td>0.3547</td>\n",
       "      <td>-1.0000</td>\n",
       "    </tr>\n",
       "  </tbody>\n",
       "</table>\n",
       "<p>5 rows × 388 columns</p>\n",
       "</div>"
      ],
      "text/plain": [
       "   NAME_CONTRACT_TYPE  CODE_GENDER  FLAG_OWN_CAR  FLAG_OWN_REALTY  \\\n",
       "0                   0            1             0                0   \n",
       "1                   0            0             0                0   \n",
       "2                   0            0             1                0   \n",
       "3                   0            1             0                0   \n",
       "4                   0            0             1                1   \n",
       "\n",
       "   CNT_CHILDREN  AMT_INCOME_TOTAL  AMT_CREDIT  AMT_ANNUITY  AMT_GOODS_PRICE  \\\n",
       "0             0          135000.0    568800.0      20560.5         450000.0   \n",
       "1             0           99000.0    222768.0      17370.0         180000.0   \n",
       "2             0          202500.0    663264.0      69777.0         630000.0   \n",
       "3             2          315000.0   1575000.0      49018.5        1575000.0   \n",
       "4             1          180000.0    625500.0      32067.0         625500.0   \n",
       "\n",
       "   NAME_TYPE_SUITE        ...         inst_AMT_PAYMENT  \\\n",
       "0                0        ...                5885.1323   \n",
       "1                0        ...                6240.2050   \n",
       "2               -1        ...                9740.2350   \n",
       "3                0        ...                4356.7314   \n",
       "4                0        ...               11100.3380   \n",
       "\n",
       "   EXT_SOURCE_1over2_NAminus1_Add0.1  EXT_SOURCE_2over1_NAminus1_Add0.1  \\\n",
       "0                             0.9585                             1.0430   \n",
       "1                             1.6980                             0.5890   \n",
       "2                            -1.1250                            -0.8887   \n",
       "3                             1.0260                             0.9740   \n",
       "4                             0.5747                             1.7400   \n",
       "\n",
       "   EXT_SOURCE_1over3_NAminus1_Add0.1  EXT_SOURCE_3over1_NAminus1_Add0.1  \\\n",
       "0                             3.2850                             0.3044   \n",
       "1                             1.2480                             0.8013   \n",
       "2                            -1.2660                            -0.7900   \n",
       "3                             0.8780                             1.1390   \n",
       "4                            -0.3357                            -2.9790   \n",
       "\n",
       "   EXT_SOURCE_2over3_NAminus1_Add0.1  EXT_SOURCE_3over2_NAminus1_Add0.1  \\\n",
       "0                             3.4280                             0.2917   \n",
       "1                             0.7350                             1.3600   \n",
       "2                             1.1250                             0.8890   \n",
       "3                             0.8555                             1.1690   \n",
       "4                            -0.5840                            -1.7120   \n",
       "\n",
       "   EXT_SOURCE_1_log  EXT_SOURCE_2_log  EXT_SOURCE_3_log  \n",
       "0            0.5610            0.5820            0.1480  \n",
       "1            0.4480            0.2559            0.3599  \n",
       "2           -1.0000            0.5303            0.4768  \n",
       "3            0.4224            0.4119            0.4780  \n",
       "4            0.1841            0.3547           -1.0000  \n",
       "\n",
       "[5 rows x 388 columns]"
      ]
     },
     "execution_count": 19,
     "metadata": {},
     "output_type": "execute_result"
    }
   ],
   "source": [
    "#test_x.head()"
   ]
  },
  {
   "cell_type": "code",
   "execution_count": 20,
   "metadata": {},
   "outputs": [
    {
     "data": {
      "text/html": [
       "<div>\n",
       "<style>\n",
       "    .dataframe thead tr:only-child th {\n",
       "        text-align: right;\n",
       "    }\n",
       "\n",
       "    .dataframe thead th {\n",
       "        text-align: left;\n",
       "    }\n",
       "\n",
       "    .dataframe tbody tr th {\n",
       "        vertical-align: top;\n",
       "    }\n",
       "</style>\n",
       "<table border=\"1\" class=\"dataframe\">\n",
       "  <thead>\n",
       "    <tr style=\"text-align: right;\">\n",
       "      <th></th>\n",
       "      <th>NAME_CONTRACT_TYPE</th>\n",
       "      <th>CODE_GENDER</th>\n",
       "      <th>FLAG_OWN_CAR</th>\n",
       "      <th>FLAG_OWN_REALTY</th>\n",
       "      <th>CNT_CHILDREN</th>\n",
       "      <th>AMT_INCOME_TOTAL</th>\n",
       "      <th>AMT_CREDIT</th>\n",
       "      <th>AMT_ANNUITY</th>\n",
       "      <th>AMT_GOODS_PRICE</th>\n",
       "      <th>NAME_TYPE_SUITE</th>\n",
       "      <th>...</th>\n",
       "      <th>inst_AMT_PAYMENT</th>\n",
       "      <th>EXT_SOURCE_1over2_NAminus1_Add0.1</th>\n",
       "      <th>EXT_SOURCE_2over1_NAminus1_Add0.1</th>\n",
       "      <th>EXT_SOURCE_1over3_NAminus1_Add0.1</th>\n",
       "      <th>EXT_SOURCE_3over1_NAminus1_Add0.1</th>\n",
       "      <th>EXT_SOURCE_2over3_NAminus1_Add0.1</th>\n",
       "      <th>EXT_SOURCE_3over2_NAminus1_Add0.1</th>\n",
       "      <th>EXT_SOURCE_1_log</th>\n",
       "      <th>EXT_SOURCE_2_log</th>\n",
       "      <th>EXT_SOURCE_3_log</th>\n",
       "    </tr>\n",
       "  </thead>\n",
       "  <tbody>\n",
       "    <tr>\n",
       "      <th>0</th>\n",
       "      <td>0</td>\n",
       "      <td>1</td>\n",
       "      <td>0</td>\n",
       "      <td>0</td>\n",
       "      <td>0</td>\n",
       "      <td>135000.0</td>\n",
       "      <td>568800.0</td>\n",
       "      <td>20560.5</td>\n",
       "      <td>450000.0</td>\n",
       "      <td>0</td>\n",
       "      <td>...</td>\n",
       "      <td>5885.1323</td>\n",
       "      <td>0.9585</td>\n",
       "      <td>1.0430</td>\n",
       "      <td>3.2850</td>\n",
       "      <td>0.3044</td>\n",
       "      <td>3.4280</td>\n",
       "      <td>0.2917</td>\n",
       "      <td>0.5610</td>\n",
       "      <td>0.5820</td>\n",
       "      <td>0.1480</td>\n",
       "    </tr>\n",
       "    <tr>\n",
       "      <th>1</th>\n",
       "      <td>0</td>\n",
       "      <td>0</td>\n",
       "      <td>0</td>\n",
       "      <td>0</td>\n",
       "      <td>0</td>\n",
       "      <td>99000.0</td>\n",
       "      <td>222768.0</td>\n",
       "      <td>17370.0</td>\n",
       "      <td>180000.0</td>\n",
       "      <td>0</td>\n",
       "      <td>...</td>\n",
       "      <td>6240.2050</td>\n",
       "      <td>1.6980</td>\n",
       "      <td>0.5890</td>\n",
       "      <td>1.2480</td>\n",
       "      <td>0.8013</td>\n",
       "      <td>0.7350</td>\n",
       "      <td>1.3600</td>\n",
       "      <td>0.4480</td>\n",
       "      <td>0.2559</td>\n",
       "      <td>0.3599</td>\n",
       "    </tr>\n",
       "    <tr>\n",
       "      <th>2</th>\n",
       "      <td>0</td>\n",
       "      <td>0</td>\n",
       "      <td>1</td>\n",
       "      <td>0</td>\n",
       "      <td>0</td>\n",
       "      <td>202500.0</td>\n",
       "      <td>663264.0</td>\n",
       "      <td>69777.0</td>\n",
       "      <td>630000.0</td>\n",
       "      <td>-1</td>\n",
       "      <td>...</td>\n",
       "      <td>9740.2350</td>\n",
       "      <td>-1.1250</td>\n",
       "      <td>-0.8887</td>\n",
       "      <td>-1.2660</td>\n",
       "      <td>-0.7900</td>\n",
       "      <td>1.1250</td>\n",
       "      <td>0.8890</td>\n",
       "      <td>-1.0000</td>\n",
       "      <td>0.5303</td>\n",
       "      <td>0.4768</td>\n",
       "    </tr>\n",
       "    <tr>\n",
       "      <th>3</th>\n",
       "      <td>0</td>\n",
       "      <td>1</td>\n",
       "      <td>0</td>\n",
       "      <td>0</td>\n",
       "      <td>2</td>\n",
       "      <td>315000.0</td>\n",
       "      <td>1575000.0</td>\n",
       "      <td>49018.5</td>\n",
       "      <td>1575000.0</td>\n",
       "      <td>0</td>\n",
       "      <td>...</td>\n",
       "      <td>4356.7314</td>\n",
       "      <td>1.0260</td>\n",
       "      <td>0.9740</td>\n",
       "      <td>0.8780</td>\n",
       "      <td>1.1390</td>\n",
       "      <td>0.8555</td>\n",
       "      <td>1.1690</td>\n",
       "      <td>0.4224</td>\n",
       "      <td>0.4119</td>\n",
       "      <td>0.4780</td>\n",
       "    </tr>\n",
       "    <tr>\n",
       "      <th>4</th>\n",
       "      <td>0</td>\n",
       "      <td>0</td>\n",
       "      <td>1</td>\n",
       "      <td>1</td>\n",
       "      <td>1</td>\n",
       "      <td>180000.0</td>\n",
       "      <td>625500.0</td>\n",
       "      <td>32067.0</td>\n",
       "      <td>625500.0</td>\n",
       "      <td>0</td>\n",
       "      <td>...</td>\n",
       "      <td>11100.3380</td>\n",
       "      <td>0.5747</td>\n",
       "      <td>1.7400</td>\n",
       "      <td>-0.3357</td>\n",
       "      <td>-2.9790</td>\n",
       "      <td>-0.5840</td>\n",
       "      <td>-1.7120</td>\n",
       "      <td>0.1841</td>\n",
       "      <td>0.3547</td>\n",
       "      <td>-1.0000</td>\n",
       "    </tr>\n",
       "  </tbody>\n",
       "</table>\n",
       "<p>5 rows × 388 columns</p>\n",
       "</div>"
      ],
      "text/plain": [
       "   NAME_CONTRACT_TYPE  CODE_GENDER  FLAG_OWN_CAR  FLAG_OWN_REALTY  \\\n",
       "0                   0            1             0                0   \n",
       "1                   0            0             0                0   \n",
       "2                   0            0             1                0   \n",
       "3                   0            1             0                0   \n",
       "4                   0            0             1                1   \n",
       "\n",
       "   CNT_CHILDREN  AMT_INCOME_TOTAL  AMT_CREDIT  AMT_ANNUITY  AMT_GOODS_PRICE  \\\n",
       "0             0          135000.0    568800.0      20560.5         450000.0   \n",
       "1             0           99000.0    222768.0      17370.0         180000.0   \n",
       "2             0          202500.0    663264.0      69777.0         630000.0   \n",
       "3             2          315000.0   1575000.0      49018.5        1575000.0   \n",
       "4             1          180000.0    625500.0      32067.0         625500.0   \n",
       "\n",
       "   NAME_TYPE_SUITE        ...         inst_AMT_PAYMENT  \\\n",
       "0                0        ...                5885.1323   \n",
       "1                0        ...                6240.2050   \n",
       "2               -1        ...                9740.2350   \n",
       "3                0        ...                4356.7314   \n",
       "4                0        ...               11100.3380   \n",
       "\n",
       "   EXT_SOURCE_1over2_NAminus1_Add0.1  EXT_SOURCE_2over1_NAminus1_Add0.1  \\\n",
       "0                             0.9585                             1.0430   \n",
       "1                             1.6980                             0.5890   \n",
       "2                            -1.1250                            -0.8887   \n",
       "3                             1.0260                             0.9740   \n",
       "4                             0.5747                             1.7400   \n",
       "\n",
       "   EXT_SOURCE_1over3_NAminus1_Add0.1  EXT_SOURCE_3over1_NAminus1_Add0.1  \\\n",
       "0                             3.2850                             0.3044   \n",
       "1                             1.2480                             0.8013   \n",
       "2                            -1.2660                            -0.7900   \n",
       "3                             0.8780                             1.1390   \n",
       "4                            -0.3357                            -2.9790   \n",
       "\n",
       "   EXT_SOURCE_2over3_NAminus1_Add0.1  EXT_SOURCE_3over2_NAminus1_Add0.1  \\\n",
       "0                             3.4280                             0.2917   \n",
       "1                             0.7350                             1.3600   \n",
       "2                             1.1250                             0.8890   \n",
       "3                             0.8555                             1.1690   \n",
       "4                            -0.5840                            -1.7120   \n",
       "\n",
       "   EXT_SOURCE_1_log  EXT_SOURCE_2_log  EXT_SOURCE_3_log  \n",
       "0            0.5610            0.5820            0.1480  \n",
       "1            0.4480            0.2559            0.3599  \n",
       "2           -1.0000            0.5303            0.4768  \n",
       "3            0.4224            0.4119            0.4780  \n",
       "4            0.1841            0.3547           -1.0000  \n",
       "\n",
       "[5 rows x 388 columns]"
      ]
     },
     "execution_count": 20,
     "metadata": {},
     "output_type": "execute_result"
    }
   ],
   "source": [
    "#val_x.head()"
   ]
  },
  {
   "cell_type": "code",
   "execution_count": null,
   "metadata": {
    "collapsed": true
   },
   "outputs": [],
   "source": []
  }
 ],
 "metadata": {
  "kernelspec": {
   "display_name": "Python 3",
   "language": "python",
   "name": "python3"
  },
  "language_info": {
   "codemirror_mode": {
    "name": "ipython",
    "version": 3
   },
   "file_extension": ".py",
   "mimetype": "text/x-python",
   "name": "python",
   "nbconvert_exporter": "python",
   "pygments_lexer": "ipython3",
   "version": "3.5.4"
  }
 },
 "nbformat": 4,
 "nbformat_minor": 2
}
