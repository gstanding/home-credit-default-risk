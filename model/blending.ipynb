{
 "cells": [
  {
   "cell_type": "code",
   "execution_count": 20,
   "metadata": {},
   "outputs": [
    {
     "name": "stdout",
     "output_type": "stream",
     "text": [
      "Validate AUC score: 0.5050485880487267\n"
     ]
    }
   ],
   "source": [
    "from sklearn.linear_model import LogisticRegression\n",
    "from sklearn.metrics import roc_auc_score\n",
    "import numpy as np\n",
    "import pandas as pd\n",
    "\n",
    "class blending(object):\n",
    "    \n",
    "    def __init__(self, train_pred, train_y, val_pred, val_y, test_pred):\n",
    "        self.train_pred = train_pred.reshape(-1,1)\n",
    "        self.train_y = train_y.reshape(-1,1)\n",
    "        self.val_pred = val_pred.reshape(-1,1)\n",
    "        self.val_y = val_y.reshape(-1,1)\n",
    "        self.test_pred = test_pred.reshape(-1,1)\n",
    "        \n",
    "    def train(self):\n",
    "        clf = LogisticRegression(\n",
    "            penalty = 'l1',\n",
    "            C = 10.0,\n",
    "            class_weight = 'balanced',\n",
    "            random_state = 14,\n",
    "            n_jobs = 72,\n",
    "            solver= 'saga'\n",
    "            )\n",
    "        clf.fit(self.train_pred, self.train_y.ravel())\n",
    "        lr_val_pred = clf.predict_proba(self.val_pred)[:, 1]\n",
    "        lr_test_pred = clf.predict_proba(self.test_pred)[:, 1]\n",
    "        print('Validate AUC score:', roc_auc_score(self.val_y.ravel(), lr_val_pred))\n",
    "        return lr_test_pred\n",
    "train_pred, train_y, val_pred, val_y, test_pred = np.random.random((7000,)), np.random.randint(0,2,size=(7000,)), np.random.random((3000,)), np.random.randint(0,2,size=(3000,)), np.random.random((3000,))\n",
    "bld = blending(train_pred, train_y, val_pred, val_y, test_pred)\n",
    "lr_test_pred = bld.train()"
   ]
  },
  {
   "cell_type": "code",
   "execution_count": 21,
   "metadata": {
    "collapsed": true
   },
   "outputs": [],
   "source": [
    "train_pred = pd.read_csv('../data/val_pred.csv')\n",
    "train_y = pd.read_csv('../data/y_.csv')"
   ]
  },
  {
   "cell_type": "code",
   "execution_count": 22,
   "metadata": {},
   "outputs": [
    {
     "name": "stdout",
     "output_type": "stream",
     "text": [
      "(276759, 1) (276759, 1)\n"
     ]
    }
   ],
   "source": [
    "print(train_pred.shape, train_y.shape)"
   ]
  },
  {
   "cell_type": "code",
   "execution_count": 23,
   "metadata": {
    "collapsed": true
   },
   "outputs": [],
   "source": [
    "val_pred = pd.read_csv('../data/off_val_pred.csv')\n",
    "val_y = pd.read_csv('../data/val_y_.csv')"
   ]
  },
  {
   "cell_type": "code",
   "execution_count": 24,
   "metadata": {},
   "outputs": [
    {
     "name": "stdout",
     "output_type": "stream",
     "text": [
      "(30752, 1) (30752, 1)\n"
     ]
    }
   ],
   "source": [
    "print(val_pred.shape, val_y.shape)"
   ]
  },
  {
   "cell_type": "code",
   "execution_count": 25,
   "metadata": {
    "collapsed": true
   },
   "outputs": [],
   "source": [
    "test_pred = pd.read_csv('../data/test_pred.csv')"
   ]
  },
  {
   "cell_type": "code",
   "execution_count": 26,
   "metadata": {
    "collapsed": true
   },
   "outputs": [],
   "source": [
    "train_pred, train_y, val_pred, val_y, test_pred = train_pred.values, train_y.values, val_pred.values, val_y.values, test_pred.values"
   ]
  },
  {
   "cell_type": "code",
   "execution_count": 27,
   "metadata": {},
   "outputs": [],
   "source": [
    "bld = blending(train_pred, train_y, val_pred, val_y, test_pred)"
   ]
  },
  {
   "cell_type": "code",
   "execution_count": 28,
   "metadata": {},
   "outputs": [
    {
     "name": "stdout",
     "output_type": "stream",
     "text": [
      "Validate AUC score: 0.7499705142773484\n"
     ]
    }
   ],
   "source": [
    "lr_test_pred = bld.train()"
   ]
  },
  {
   "cell_type": "code",
   "execution_count": 29,
   "metadata": {
    "collapsed": true
   },
   "outputs": [],
   "source": [
    "lr_test_pred = pd.DataFrame(lr_test_pred)"
   ]
  },
  {
   "cell_type": "code",
   "execution_count": 30,
   "metadata": {
    "collapsed": true
   },
   "outputs": [],
   "source": [
    "sample_sub = pd.read_csv('../data/sample_submission.csv')"
   ]
  },
  {
   "cell_type": "code",
   "execution_count": 31,
   "metadata": {},
   "outputs": [],
   "source": [
    "sample_sub['TARGET'] = lr_test_pred.values"
   ]
  },
  {
   "cell_type": "code",
   "execution_count": 32,
   "metadata": {},
   "outputs": [
    {
     "data": {
      "text/html": [
       "<div>\n",
       "<style>\n",
       "    .dataframe thead tr:only-child th {\n",
       "        text-align: right;\n",
       "    }\n",
       "\n",
       "    .dataframe thead th {\n",
       "        text-align: left;\n",
       "    }\n",
       "\n",
       "    .dataframe tbody tr th {\n",
       "        vertical-align: top;\n",
       "    }\n",
       "</style>\n",
       "<table border=\"1\" class=\"dataframe\">\n",
       "  <thead>\n",
       "    <tr style=\"text-align: right;\">\n",
       "      <th></th>\n",
       "      <th>SK_ID_CURR</th>\n",
       "      <th>TARGET</th>\n",
       "    </tr>\n",
       "  </thead>\n",
       "  <tbody>\n",
       "    <tr>\n",
       "      <th>0</th>\n",
       "      <td>100001</td>\n",
       "      <td>0.497863</td>\n",
       "    </tr>\n",
       "    <tr>\n",
       "      <th>1</th>\n",
       "      <td>100005</td>\n",
       "      <td>0.586480</td>\n",
       "    </tr>\n",
       "    <tr>\n",
       "      <th>2</th>\n",
       "      <td>100013</td>\n",
       "      <td>0.453514</td>\n",
       "    </tr>\n",
       "    <tr>\n",
       "      <th>3</th>\n",
       "      <td>100028</td>\n",
       "      <td>0.458012</td>\n",
       "    </tr>\n",
       "    <tr>\n",
       "      <th>4</th>\n",
       "      <td>100038</td>\n",
       "      <td>0.569071</td>\n",
       "    </tr>\n",
       "  </tbody>\n",
       "</table>\n",
       "</div>"
      ],
      "text/plain": [
       "   SK_ID_CURR    TARGET\n",
       "0      100001  0.497863\n",
       "1      100005  0.586480\n",
       "2      100013  0.453514\n",
       "3      100028  0.458012\n",
       "4      100038  0.569071"
      ]
     },
     "execution_count": 32,
     "metadata": {},
     "output_type": "execute_result"
    }
   ],
   "source": [
    "sample_sub.head()"
   ]
  },
  {
   "cell_type": "code",
   "execution_count": 33,
   "metadata": {
    "collapsed": true
   },
   "outputs": [],
   "source": [
    "sample_sub.to_csv('../data/blending7499.csv', index=False)"
   ]
  },
  {
   "cell_type": "code",
   "execution_count": null,
   "metadata": {
    "collapsed": true
   },
   "outputs": [],
   "source": []
  }
 ],
 "metadata": {
  "kernelspec": {
   "display_name": "Python 3",
   "language": "python",
   "name": "python3"
  },
  "language_info": {
   "codemirror_mode": {
    "name": "ipython",
    "version": 3
   },
   "file_extension": ".py",
   "mimetype": "text/x-python",
   "name": "python",
   "nbconvert_exporter": "python",
   "pygments_lexer": "ipython3",
   "version": "3.5.4"
  }
 },
 "nbformat": 4,
 "nbformat_minor": 2
}
