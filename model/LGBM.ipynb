{
 "cells": [
  {
   "cell_type": "code",
   "execution_count": 1,
   "metadata": {},
   "outputs": [],
   "source": [
    "import numpy as np # linear algebra\n",
    "import pandas as pd # data processing, CSV file I/O (e.g. pd.read_csv)\n",
    "\n",
    "pd.set_option('display.max_columns', None)\n",
    "pd.set_option('display.max_rows', None)\n",
    "\n",
    "from sklearn.metrics import roc_auc_score, precision_recall_curve, roc_curve, average_precision_score\n",
    "from lightgbm import LGBMClassifier\n",
    "import matplotlib.pyplot as plt\n",
    "import seaborn as sns\n",
    "from sklearn.model_selection import KFold"
   ]
  },
  {
   "cell_type": "code",
   "execution_count": 2,
   "metadata": {
    "collapsed": true
   },
   "outputs": [],
   "source": [
    "import gc"
   ]
  },
  {
   "cell_type": "code",
   "execution_count": 6,
   "metadata": {
    "collapsed": true
   },
   "outputs": [],
   "source": [
    "def train_model(train_, val_x_, val_y_, test_, y_, folds_):\n",
    "    feats_ = [f_ for f_ in test_.columns if f_ not in ['SK_ID_CURR']]\n",
    "    oof_preds = np.zeros(train_.shape[0])\n",
    "    val_preds = np.zeros(val_x_.shape[0])\n",
    "    sub_preds = np.zeros(test_.shape[0])\n",
    "    \n",
    "    feature_importance_df = pd.DataFrame()\n",
    "    #feats = [f_ for f_ in train_.columns if f_ not in ['SK_ID_CURR']]\n",
    "    \n",
    "    for n_fold, (trn_idx, val_idx) in enumerate(folds_.split(train_)):\n",
    "        #print(train_.type)\n",
    "        trn_x, trn_y = pd.DataFrame(train_).iloc[trn_idx], pd.DataFrame(y_).iloc[trn_idx]\n",
    "        val_x, val_y = pd.DataFrame(train_).iloc[val_idx], pd.DataFrame(y_).iloc[val_idx]\n",
    "        \n",
    "        clf = LGBMClassifier(\n",
    "            n_estimators = 4000,\n",
    "            learning_rate = 0.03,\n",
    "            num_leaves = 30,\n",
    "            colsample_bytree = .8,\n",
    "            subsample = .9,\n",
    "            max_depth = 7,\n",
    "            reg_alpha = .1,\n",
    "            min_split_gain = .01,\n",
    "            min_child_weight = 2,\n",
    "            silent = -1,\n",
    "            verbose = -1\n",
    "            )\n",
    "        clf.fit(trn_x, trn_y, \n",
    "            eval_set = [(trn_x, trn_y), (val_x, val_y)],\n",
    "            eval_metric = 'auc', verbose = 100, early_stopping_rounds = 100)\n",
    "        \n",
    "        oof_preds[val_idx] = clf.predict_proba(val_x, num_iteration = clf.best_iteration_)[:, 1]\n",
    "        val_preds += clf.predict_proba(pd.DataFrame(val_x_[feats_]))[:, 1] / folds_.n_splits\n",
    "        sub_preds += clf.predict_proba(pd.DataFrame(test_[feats_]), num_iteration=clf.best_iteration_)[:, 1] / folds_.n_splits\n",
    "        feature_importance_df = 0\n",
    "        #fold_importance_df = pd.DataFrame()\n",
    "        #fold_importance_df['feature'] = feats\n",
    "        #fold_importance_df['importance'] = clf.feature_importances_\n",
    "        #fold_importance_df['fold'] = n_fold + 1\n",
    "        #feature_importance_df = pd.concat([feature_importance_df, fold_importance_df], axis=0)\n",
    "        print('fold %2d validate AUC score %.6f'%(n_fold + 1,roc_auc_score(val_y_, val_preds) * folds_.n_splits))\n",
    "        print('fold %2d AUC %.6f'%(n_fold+1, roc_auc_score(val_y, oof_preds[val_idx])))\n",
    "        del clf, trn_x, trn_y, val_x, val_y\n",
    "        gc.collect()\n",
    "    print('validate AUC score %.6f'%roc_auc_score(val_y_, val_preds))\n",
    "    print('full AUC score %.6f'%roc_auc_score(y_, oof_preds))\n",
    "    test_['TARGET'] = sub_preds\n",
    "    \n",
    "    return oof_preds, test_[['SK_ID_CURR', 'TARGET']], feature_importance_df"
   ]
  },
  {
   "cell_type": "code",
   "execution_count": 4,
   "metadata": {
    "collapsed": true
   },
   "outputs": [],
   "source": [
    "train = pd.read_csv('../data/train_.csv')\n",
    "test = pd.read_csv('../data/test_.csv')\n",
    "y = pd.read_csv('../data/y_.csv')\n",
    "val_x = pd.read_csv('../data/val_x_.csv')\n",
    "val_y = pd.read_csv('../data/val_y_.csv')\n",
    "folds = KFold(n_splits=5, shuffle=True, random_state=0)"
   ]
  },
  {
   "cell_type": "code",
   "execution_count": 7,
   "metadata": {},
   "outputs": [
    {
     "name": "stderr",
     "output_type": "stream",
     "text": [
      "F:\\KG\\software\\anaconda3\\envs\\tensorflow\\lib\\site-packages\\sklearn\\preprocessing\\label.py:95: DataConversionWarning: A column-vector y was passed when a 1d array was expected. Please change the shape of y to (n_samples, ), for example using ravel().\n",
      "  y = column_or_1d(y, warn=True)\n",
      "F:\\KG\\software\\anaconda3\\envs\\tensorflow\\lib\\site-packages\\sklearn\\preprocessing\\label.py:128: DataConversionWarning: A column-vector y was passed when a 1d array was expected. Please change the shape of y to (n_samples, ), for example using ravel().\n",
      "  y = column_or_1d(y, warn=True)\n"
     ]
    },
    {
     "name": "stdout",
     "output_type": "stream",
     "text": [
      "Training until validation scores don't improve for 100 rounds.\n",
      "[100]\ttraining's auc: 0.978845\tvalid_1's auc: 0.977379\n",
      "[200]\ttraining's auc: 0.981584\tvalid_1's auc: 0.97931\n",
      "[300]\ttraining's auc: 0.983147\tvalid_1's auc: 0.980027\n",
      "[400]\ttraining's auc: 0.984374\tvalid_1's auc: 0.980381\n",
      "[500]\ttraining's auc: 0.985452\tvalid_1's auc: 0.980552\n",
      "[600]\ttraining's auc: 0.986463\tvalid_1's auc: 0.98061\n",
      "[700]\ttraining's auc: 0.987409\tvalid_1's auc: 0.98064\n",
      "[800]\ttraining's auc: 0.988266\tvalid_1's auc: 0.980657\n",
      "Early stopping, best iteration is:\n",
      "[789]\ttraining's auc: 0.988182\tvalid_1's auc: 0.980667\n",
      "fold  1 AUC 0.980667\n"
     ]
    },
    {
     "name": "stderr",
     "output_type": "stream",
     "text": [
      "F:\\KG\\software\\anaconda3\\envs\\tensorflow\\lib\\site-packages\\sklearn\\preprocessing\\label.py:95: DataConversionWarning: A column-vector y was passed when a 1d array was expected. Please change the shape of y to (n_samples, ), for example using ravel().\n",
      "  y = column_or_1d(y, warn=True)\n",
      "F:\\KG\\software\\anaconda3\\envs\\tensorflow\\lib\\site-packages\\sklearn\\preprocessing\\label.py:128: DataConversionWarning: A column-vector y was passed when a 1d array was expected. Please change the shape of y to (n_samples, ), for example using ravel().\n",
      "  y = column_or_1d(y, warn=True)\n"
     ]
    },
    {
     "name": "stdout",
     "output_type": "stream",
     "text": [
      "Training until validation scores don't improve for 100 rounds.\n",
      "[100]\ttraining's auc: 0.978787\tvalid_1's auc: 0.977786\n",
      "[200]\ttraining's auc: 0.981607\tvalid_1's auc: 0.979625\n",
      "[300]\ttraining's auc: 0.983175\tvalid_1's auc: 0.980256\n",
      "[400]\ttraining's auc: 0.984426\tvalid_1's auc: 0.980524\n",
      "[500]\ttraining's auc: 0.98554\tvalid_1's auc: 0.9807\n",
      "[600]\ttraining's auc: 0.986581\tvalid_1's auc: 0.980784\n",
      "[700]\ttraining's auc: 0.987504\tvalid_1's auc: 0.980842\n",
      "[800]\ttraining's auc: 0.988361\tvalid_1's auc: 0.980893\n",
      "[900]\ttraining's auc: 0.989139\tvalid_1's auc: 0.98095\n",
      "[1000]\ttraining's auc: 0.989875\tvalid_1's auc: 0.980997\n",
      "[1100]\ttraining's auc: 0.99051\tvalid_1's auc: 0.981019\n",
      "[1200]\ttraining's auc: 0.991151\tvalid_1's auc: 0.981016\n",
      "Early stopping, best iteration is:\n",
      "[1135]\ttraining's auc: 0.990736\tvalid_1's auc: 0.981029\n",
      "fold  2 AUC 0.981029\n"
     ]
    },
    {
     "name": "stderr",
     "output_type": "stream",
     "text": [
      "F:\\KG\\software\\anaconda3\\envs\\tensorflow\\lib\\site-packages\\sklearn\\preprocessing\\label.py:95: DataConversionWarning: A column-vector y was passed when a 1d array was expected. Please change the shape of y to (n_samples, ), for example using ravel().\n",
      "  y = column_or_1d(y, warn=True)\n",
      "F:\\KG\\software\\anaconda3\\envs\\tensorflow\\lib\\site-packages\\sklearn\\preprocessing\\label.py:128: DataConversionWarning: A column-vector y was passed when a 1d array was expected. Please change the shape of y to (n_samples, ), for example using ravel().\n",
      "  y = column_or_1d(y, warn=True)\n"
     ]
    },
    {
     "name": "stdout",
     "output_type": "stream",
     "text": [
      "Training until validation scores don't improve for 100 rounds.\n",
      "[100]\ttraining's auc: 0.978577\tvalid_1's auc: 0.977899\n",
      "[200]\ttraining's auc: 0.981496\tvalid_1's auc: 0.97969\n",
      "[300]\ttraining's auc: 0.983044\tvalid_1's auc: 0.98035\n",
      "[400]\ttraining's auc: 0.9843\tvalid_1's auc: 0.980661\n",
      "[500]\ttraining's auc: 0.985384\tvalid_1's auc: 0.980842\n",
      "[600]\ttraining's auc: 0.986412\tvalid_1's auc: 0.980924\n",
      "[700]\ttraining's auc: 0.987371\tvalid_1's auc: 0.980968\n",
      "[800]\ttraining's auc: 0.988203\tvalid_1's auc: 0.980994\n",
      "[900]\ttraining's auc: 0.988984\tvalid_1's auc: 0.98102\n",
      "[1000]\ttraining's auc: 0.989713\tvalid_1's auc: 0.981038\n",
      "[1100]\ttraining's auc: 0.990409\tvalid_1's auc: 0.981075\n",
      "[1200]\ttraining's auc: 0.990999\tvalid_1's auc: 0.981084\n",
      "[1300]\ttraining's auc: 0.99161\tvalid_1's auc: 0.981099\n",
      "[1400]\ttraining's auc: 0.992183\tvalid_1's auc: 0.98112\n",
      "Early stopping, best iteration is:\n",
      "[1354]\ttraining's auc: 0.991907\tvalid_1's auc: 0.981127\n",
      "fold  3 AUC 0.981127\n"
     ]
    },
    {
     "name": "stderr",
     "output_type": "stream",
     "text": [
      "F:\\KG\\software\\anaconda3\\envs\\tensorflow\\lib\\site-packages\\sklearn\\preprocessing\\label.py:95: DataConversionWarning: A column-vector y was passed when a 1d array was expected. Please change the shape of y to (n_samples, ), for example using ravel().\n",
      "  y = column_or_1d(y, warn=True)\n",
      "F:\\KG\\software\\anaconda3\\envs\\tensorflow\\lib\\site-packages\\sklearn\\preprocessing\\label.py:128: DataConversionWarning: A column-vector y was passed when a 1d array was expected. Please change the shape of y to (n_samples, ), for example using ravel().\n",
      "  y = column_or_1d(y, warn=True)\n"
     ]
    },
    {
     "name": "stdout",
     "output_type": "stream",
     "text": [
      "Training until validation scores don't improve for 100 rounds.\n",
      "[100]\ttraining's auc: 0.978752\tvalid_1's auc: 0.977937\n",
      "[200]\ttraining's auc: 0.981548\tvalid_1's auc: 0.979921\n",
      "[300]\ttraining's auc: 0.983123\tvalid_1's auc: 0.980525\n",
      "[400]\ttraining's auc: 0.984365\tvalid_1's auc: 0.980828\n",
      "[500]\ttraining's auc: 0.985459\tvalid_1's auc: 0.980983\n",
      "[600]\ttraining's auc: 0.98647\tvalid_1's auc: 0.981049\n",
      "[700]\ttraining's auc: 0.987401\tvalid_1's auc: 0.98108\n",
      "[800]\ttraining's auc: 0.988223\tvalid_1's auc: 0.981104\n",
      "[900]\ttraining's auc: 0.989017\tvalid_1's auc: 0.981109\n",
      "[1000]\ttraining's auc: 0.989741\tvalid_1's auc: 0.981137\n",
      "[1100]\ttraining's auc: 0.990433\tvalid_1's auc: 0.981155\n",
      "[1200]\ttraining's auc: 0.991103\tvalid_1's auc: 0.981161\n",
      "[1300]\ttraining's auc: 0.991665\tvalid_1's auc: 0.981178\n",
      "[1400]\ttraining's auc: 0.992236\tvalid_1's auc: 0.981185\n",
      "[1500]\ttraining's auc: 0.99277\tvalid_1's auc: 0.981193\n",
      "Early stopping, best iteration is:\n",
      "[1411]\ttraining's auc: 0.992297\tvalid_1's auc: 0.981201\n",
      "fold  4 AUC 0.981201\n"
     ]
    },
    {
     "name": "stderr",
     "output_type": "stream",
     "text": [
      "F:\\KG\\software\\anaconda3\\envs\\tensorflow\\lib\\site-packages\\sklearn\\preprocessing\\label.py:95: DataConversionWarning: A column-vector y was passed when a 1d array was expected. Please change the shape of y to (n_samples, ), for example using ravel().\n",
      "  y = column_or_1d(y, warn=True)\n",
      "F:\\KG\\software\\anaconda3\\envs\\tensorflow\\lib\\site-packages\\sklearn\\preprocessing\\label.py:128: DataConversionWarning: A column-vector y was passed when a 1d array was expected. Please change the shape of y to (n_samples, ), for example using ravel().\n",
      "  y = column_or_1d(y, warn=True)\n"
     ]
    },
    {
     "name": "stdout",
     "output_type": "stream",
     "text": [
      "Training until validation scores don't improve for 100 rounds.\n",
      "[100]\ttraining's auc: 0.978839\tvalid_1's auc: 0.977665\n",
      "[200]\ttraining's auc: 0.981637\tvalid_1's auc: 0.979559\n",
      "[300]\ttraining's auc: 0.983193\tvalid_1's auc: 0.980186\n",
      "[400]\ttraining's auc: 0.984432\tvalid_1's auc: 0.980465\n",
      "[500]\ttraining's auc: 0.985519\tvalid_1's auc: 0.980586\n",
      "[600]\ttraining's auc: 0.986527\tvalid_1's auc: 0.980655\n",
      "[700]\ttraining's auc: 0.987459\tvalid_1's auc: 0.980705\n",
      "[800]\ttraining's auc: 0.988292\tvalid_1's auc: 0.98073\n",
      "[900]\ttraining's auc: 0.989095\tvalid_1's auc: 0.980744\n",
      "[1000]\ttraining's auc: 0.989784\tvalid_1's auc: 0.980744\n",
      "[1100]\ttraining's auc: 0.990468\tvalid_1's auc: 0.980757\n",
      "[1200]\ttraining's auc: 0.991098\tvalid_1's auc: 0.980763\n",
      "[1300]\ttraining's auc: 0.991693\tvalid_1's auc: 0.980768\n",
      "Early stopping, best iteration is:\n",
      "[1289]\ttraining's auc: 0.99163\tvalid_1's auc: 0.980778\n",
      "fold  5 AUC 0.980778\n",
      "validate AUC score 0.720602\n",
      "full AUC score 0.980958\n"
     ]
    }
   ],
   "source": [
    "oof_preds, test_preds, feature_importance_df = train_model(train, val_x, val_y['TARGET'].values.ravel(), test, y['0'].values.ravel(), folds)\n",
    "test_preds.to_csv('../data/lgbm_submission.csv', index=False)"
   ]
  },
  {
   "cell_type": "code",
   "execution_count": null,
   "metadata": {
    "collapsed": true
   },
   "outputs": [],
   "source": []
  }
 ],
 "metadata": {
  "kernelspec": {
   "display_name": "Python 3",
   "language": "python",
   "name": "python3"
  },
  "language_info": {
   "codemirror_mode": {
    "name": "ipython",
    "version": 3
   },
   "file_extension": ".py",
   "mimetype": "text/x-python",
   "name": "python",
   "nbconvert_exporter": "python",
   "pygments_lexer": "ipython3",
   "version": "3.5.4"
  }
 },
 "nbformat": 4,
 "nbformat_minor": 2
}
