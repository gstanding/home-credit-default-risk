{
 "cells": [
  {
   "cell_type": "code",
   "execution_count": 1,
   "metadata": {
    "collapsed": true
   },
   "outputs": [],
   "source": [
    "import numpy as np # linear algebra\n",
    "import pandas as pd # data processing, CSV file I/O (e.g. pd.read_csv)\n",
    "\n",
    "pd.set_option('display.max_columns', None)\n",
    "pd.set_option('display.max_rows', None)\n",
    "\n",
    "from sklearn.metrics import roc_auc_score, precision_recall_curve, roc_curve, average_precision_score\n",
    "from sklearn.linear_model import LogisticRegression\n",
    "from sklearn.model_selection import KFold\n",
    "from sklearn.preprocessing import normalize"
   ]
  },
  {
   "cell_type": "code",
   "execution_count": 2,
   "metadata": {
    "collapsed": true
   },
   "outputs": [],
   "source": [
    "import gc\n",
    "gc.enable()"
   ]
  },
  {
   "cell_type": "code",
   "execution_count": 8,
   "metadata": {
    "collapsed": true
   },
   "outputs": [],
   "source": [
    "def train_model(train_, val_x_, val_y_, test_, y_, folds_):\n",
    "    feats_ = [f_ for f_ in test_.columns if f_ not in ['SK_ID_CURR']]\n",
    "    oof_preds = np.zeros(train_.shape[0])\n",
    "    val_preds = np.zeros(val_x_.shape[0])\n",
    "    sub_preds = np.zeros(test_.shape[0])\n",
    "    \n",
    "\n",
    "    \n",
    "    for n_fold, (trn_idx, val_idx) in enumerate(folds_.split(train_)):\n",
    "        #print(train_.type)\n",
    "        trn_x, trn_y = pd.DataFrame(train_).iloc[trn_idx], pd.DataFrame(y_).iloc[trn_idx]\n",
    "        val_x, val_y = pd.DataFrame(train_).iloc[val_idx], pd.DataFrame(y_).iloc[val_idx]\n",
    "        \n",
    "        clf = LogisticRegression(\n",
    "            penalty = 'l1',\n",
    "            C = 10.0,\n",
    "            class_weight = 'balanced',\n",
    "            random_state = 14,\n",
    "            n_jobs = 72\n",
    "            )\n",
    "        clf.fit(trn_x, trn_y)\n",
    "        oof_preds[val_idx] = clf.predict_proba(val_x)[:, 1]\n",
    "        val_preds += clf.predict_proba(pd.DataFrame(val_x_[feats_]))[:, 1] / folds_.n_splits\n",
    "        sub_preds += clf.predict_proba(pd.DataFrame(test_[feats_]))[:, 1] / folds_.n_splits\n",
    "        print('fold %2d validate AUC score %.6f'%(n_fold + 1,roc_auc_score(val_y_, val_preds* folds_.n_splits) ))\n",
    "        print('fold %2d AUC %.6f'%(n_fold+1, roc_auc_score(val_y, oof_preds[val_idx])))\n",
    "        del clf, trn_x, trn_y, val_x, val_y\n",
    "        gc.collect()\n",
    "    print('validate AUC score %.6f'%roc_auc_score(val_y_, val_preds))\n",
    "    print('full AUC score %.6f'%roc_auc_score(y_, oof_preds))\n",
    "    test_['TARGET'] = sub_preds\n",
    "    \n",
    "    return oof_preds, test_[['SK_ID_CURR', 'TARGET']]"
   ]
  },
  {
   "cell_type": "code",
   "execution_count": 9,
   "metadata": {
    "collapsed": true
   },
   "outputs": [],
   "source": [
    "train = pd.read_csv('../data/train_.csv')\n",
    "test = pd.read_csv('../data/test_.csv')\n",
    "y = pd.read_csv('../data/y_.csv')\n",
    "val_x = pd.read_csv('../data/val_x_.csv')\n",
    "val_y = pd.read_csv('../data/val_y_.csv')\n",
    "folds = KFold(n_splits=5, shuffle=True, random_state=0)\n",
    "features = val_x.columns\n",
    "feats = [f for f in features if f not in ['SK_ID_CURR']]"
   ]
  },
  {
   "cell_type": "code",
   "execution_count": 10,
   "metadata": {
    "collapsed": true
   },
   "outputs": [],
   "source": [
    "train = normalize(train)\n",
    "test = normalize(test)\n",
    "val_x = normalize(val_x)"
   ]
  },
  {
   "cell_type": "code",
   "execution_count": 11,
   "metadata": {},
   "outputs": [],
   "source": [
    "train = pd.DataFrame(train)\n",
    "test = pd.DataFrame(test)\n",
    "val_x = pd.DataFrame(val_x)\n",
    "train.columns = feats\n",
    "test.columns = features\n",
    "val_x.columns = features"
   ]
  },
  {
   "cell_type": "code",
   "execution_count": 12,
   "metadata": {},
   "outputs": [
    {
     "name": "stderr",
     "output_type": "stream",
     "text": [
      "F:\\KG\\software\\anaconda3\\envs\\tensorflow\\lib\\site-packages\\sklearn\\utils\\validation.py:547: DataConversionWarning: A column-vector y was passed when a 1d array was expected. Please change the shape of y to (n_samples, ), for example using ravel().\n",
      "  y = column_or_1d(y, warn=True)\n",
      "F:\\KG\\software\\anaconda3\\envs\\tensorflow\\lib\\site-packages\\sklearn\\linear_model\\logistic.py:1228: UserWarning: 'n_jobs' > 1 does not have any effect when 'solver' is set to 'liblinear'. Got 'n_jobs' = 72.\n",
      "  \" = {}.\".format(self.n_jobs))\n"
     ]
    },
    {
     "name": "stdout",
     "output_type": "stream",
     "text": [
      "fold  1 validate AUC score 0.568079\n",
      "fold  1 AUC 0.950656\n",
      "fold  2 validate AUC score 0.567908\n",
      "fold  2 AUC 0.951421\n",
      "fold  3 validate AUC score 0.568002\n",
      "fold  3 AUC 0.951863\n",
      "fold  4 validate AUC score 0.567944\n",
      "fold  4 AUC 0.949995\n",
      "fold  5 validate AUC score 0.567984\n",
      "fold  5 AUC 0.950631\n",
      "validate AUC score 0.567984\n",
      "full AUC score 0.950915\n"
     ]
    }
   ],
   "source": [
    "oof_preds, test_preds = train_model(train, val_x, val_y['TARGET'].values.ravel(), test, y['0'].values.ravel(), folds)\n",
    "test_preds.to_csv('../data/lr_submission.csv', index=False)"
   ]
  },
  {
   "cell_type": "code",
   "execution_count": null,
   "metadata": {
    "collapsed": true
   },
   "outputs": [],
   "source": []
  }
 ],
 "metadata": {
  "kernelspec": {
   "display_name": "Python 3",
   "language": "python",
   "name": "python3"
  },
  "language_info": {
   "codemirror_mode": {
    "name": "ipython",
    "version": 3
   },
   "file_extension": ".py",
   "mimetype": "text/x-python",
   "name": "python",
   "nbconvert_exporter": "python",
   "pygments_lexer": "ipython3",
   "version": "3.5.4"
  }
 },
 "nbformat": 4,
 "nbformat_minor": 2
}
