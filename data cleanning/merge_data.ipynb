{
 "cells": [
  {
   "cell_type": "code",
   "execution_count": 1,
   "metadata": {
    "collapsed": true
   },
   "outputs": [],
   "source": [
    "import numpy as np # linear algebra\n",
    "import pandas as pd # data processing, CSV file I/O (e.g. pd.read_csv)\n",
    "import gc"
   ]
  },
  {
   "cell_type": "code",
   "execution_count": 2,
   "metadata": {
    "collapsed": true
   },
   "outputs": [],
   "source": [
    "def merge_data():\n",
    "    gc.enable()\n",
    "    bur_bal = pd.read_csv('../data/bureau_balance.csv')\n",
    "    print('bureau_balance shape:', bur_bal.shape)\n",
    "    #bur_bal.head()\n",
    "    bur_bal = pd.concat([bur_bal, pd.get_dummies(bur_bal.STATUS, prefix='bur_bal_status')],\n",
    "                       axis=1).drop('STATUS', axis=1)\n",
    "    bur_cnts = bur_bal[['SK_ID_BUREAU', 'MONTHS_BALANCE']].groupby('SK_ID_BUREAU').count()\n",
    "    bur_bal['bur_cnt'] = bur_bal['SK_ID_BUREAU'].map(bur_cnts['MONTHS_BALANCE'])\n",
    "    avg_bur_bal = bur_bal.groupby('SK_ID_BUREAU').mean()\n",
    "    avg_bur_bal.columns = ['bur_bal_' + f_ for f_ in avg_bur_bal.columns]\n",
    "    del bur_bal\n",
    "    gc.collect()\n",
    "\n",
    "    bur = pd.read_csv('../data/bureau.csv')\n",
    "    print('bureau shape:', bur.shape)\n",
    "    #bur.head()\n",
    "    bur_credit_active_dum = pd.get_dummies(bur.CREDIT_ACTIVE, prefix='ca')\n",
    "    bur_credit_currency_dum = pd.get_dummies(bur.CREDIT_CURRENCY, prefix='cc')\n",
    "    bur_credit_type_dum = pd.get_dummies(bur.CREDIT_TYPE, prefix='ct')\n",
    "\n",
    "    bur_full = pd.concat([bur, bur_credit_active_dum, bur_credit_currency_dum, bur_credit_type_dum], axis=1).drop(['CREDIT_ACTIVE', 'CREDIT_CURRENCY', 'CREDIT_TYPE'], axis=1)\n",
    "    del bur_credit_active_dum, bur_credit_currency_dum, bur_credit_type_dum\n",
    "    gc.collect()\n",
    "    bur_full = bur_full.merge(right=avg_bur_bal.reset_index(), how='left', on='SK_ID_BUREAU',suffixes=('', '_bur_bal'))\n",
    "    nb_bureau_per_curr = bur_full[['SK_ID_CURR', 'SK_ID_BUREAU']].groupby('SK_ID_CURR').count()\n",
    "    bur_full['SK_ID_BUREAU'] = bur_full['SK_ID_CURR'].map(nb_bureau_per_curr['SK_ID_BUREAU'])\n",
    "    avg_bur = bur_full.groupby('SK_ID_CURR').mean()\n",
    "    avg_bur.columns = ['bur_' + f_ for f_ in avg_bur.columns]\n",
    "    del bur, bur_full, avg_bur_bal\n",
    "    gc.collect()\n",
    "\n",
    "    prev = pd.read_csv('../data/previous_application.csv')\n",
    "    print('previous_application shape:', prev.shape)\n",
    "    #prev.head()\n",
    "    prev_cat_features = [f_ for f_ in prev.columns if prev[f_].dtype == 'object']\n",
    "    prev_dum = pd.DataFrame()\n",
    "    for f_ in prev_cat_features:\n",
    "        prev_dum = pd.concat([prev_dum, pd.get_dummies(prev[f_], prefix=f_)], axis=1)\n",
    "    prev = pd.concat([prev, prev_dum],axis=1)\n",
    "    del prev_dum\n",
    "    gc.collect()\n",
    "    nb_prev_per_curr = prev[['SK_ID_CURR', 'SK_ID_PREV']].groupby('SK_ID_CURR').count()\n",
    "    prev['SK_ID_PREV'] = prev['SK_ID_CURR'].map(nb_prev_per_curr['SK_ID_PREV'])\n",
    "    avg_prev = prev.groupby('SK_ID_CURR').mean()\n",
    "    avg_prev.columns = ['prev_' + f_ for f_ in avg_prev.columns]\n",
    "    del prev\n",
    "    gc.collect()\n",
    "\n",
    "    pos = pd.read_csv('../data/POS_CASH_balance.csv')\n",
    "    print('pos_cash_balance shape:', pos.shape)\n",
    "    #pos.head()\n",
    "    pos = pd.concat([pos, pd.get_dummies(pos['NAME_CONTRACT_STATUS'], prefix='ncs')], axis=1)\n",
    "    nb_prevs = pos[['SK_ID_CURR', 'SK_ID_PREV']].groupby('SK_ID_CURR').count()\n",
    "    pos['SK_ID_PREV'] = pos['SK_ID_CURR'].map(nb_prevs['SK_ID_PREV'])\n",
    "    avg_pos = pos.groupby('SK_ID_CURR').mean()\n",
    "    avg_pos.columns = ['pos_' + f_ for f_ in avg_pos.columns]\n",
    "    del pos, nb_prevs\n",
    "    gc.collect()\n",
    "\n",
    "    cc_bal = pd.read_csv('../data/credit_card_balance.csv')\n",
    "    print('credit_card_balance shape:', cc_bal.shape)\n",
    "    cc_bal = pd.concat([cc_bal, pd.get_dummies(cc_bal['NAME_CONTRACT_STATUS'], prefix='ncs')], axis=1)\n",
    "    nb_prevs = cc_bal[['SK_ID_CURR', 'SK_ID_PREV']].groupby('SK_ID_CURR').count()\n",
    "    cc_bal['SK_ID_PREV'] = cc_bal['SK_ID_CURR'].map(nb_prevs['SK_ID_PREV'])\n",
    "    avg_cc_bal = cc_bal.groupby('SK_ID_CURR').mean()\n",
    "    avg_cc_bal.columns = ['cc_bal_' + f_ for f_ in avg_cc_bal.columns]\n",
    "    del cc_bal, nb_prevs\n",
    "    gc.collect()\n",
    "\n",
    "    inst = pd.read_csv('../data/installments_payments.csv')\n",
    "    print('installment_payment shape:', inst.shape)\n",
    "    nb_prevs = inst[['SK_ID_CURR', 'SK_ID_PREV']].groupby('SK_ID_CURR').count()\n",
    "    inst['SK_ID_PREV'] = inst['SK_ID_CURR'].map(nb_prevs['SK_ID_PREV'])\n",
    "    avg_inst = inst.groupby('SK_ID_CURR').mean()\n",
    "    avg_inst.columns = ['inst_' + f_ for f_ in avg_inst.columns]\n",
    "    del inst, nb_prevs\n",
    "    gc.collect()\n",
    "\n",
    "    train = pd.read_csv('../data/application_train.csv')\n",
    "    test = pd.read_csv('../data/application_test.csv')\n",
    "    print('train shape:', train.shape)\n",
    "    print('test shape:', test.shape)\n",
    "    y = train['TARGET']\n",
    "    del train['TARGET']\n",
    "    cat_feats = [f_ for f_ in train.columns if train[f_].dtype == 'object']\n",
    "    for f_ in cat_feats:\n",
    "        train[f_], indexer = pd.factorize(train[f_])#类似于类似于类似于label encoder\n",
    "        test[f_] = indexer.get_indexer(test[f_])\n",
    "    train = train.merge(right = avg_bur.reset_index(), how='left', on='SK_ID_CURR')\n",
    "    test = test.merge(right = avg_bur.reset_index(), how='left', on='SK_ID_CURR')\n",
    "    train = train.merge(right = avg_prev.reset_index(), how='left', on='SK_ID_CURR')\n",
    "    test = test.merge(right = avg_prev.reset_index(), how='left', on='SK_ID_CURR')\n",
    "    train = train.merge(right = avg_pos.reset_index(), how='left', on='SK_ID_CURR')\n",
    "    test = test.merge(right = avg_pos.reset_index(), how='left', on='SK_ID_CURR')\n",
    "    train = train.merge(right = avg_cc_bal.reset_index(), how='left', on='SK_ID_CURR')\n",
    "    test = test.merge(right = avg_cc_bal.reset_index(), how='left', on='SK_ID_CURR')\n",
    "    train = train.merge(right = avg_inst.reset_index(), how='left', on='SK_ID_CURR')\n",
    "    test = test.merge(right = avg_inst.reset_index(), how='left', on='SK_ID_CURR')\n",
    "    del avg_bur, avg_prev, avg_pos, avg_cc_bal, avg_inst\n",
    "    gc.collect()\n",
    "    return train, test, y"
   ]
  },
  {
   "cell_type": "code",
   "execution_count": 3,
   "metadata": {},
   "outputs": [
    {
     "name": "stdout",
     "output_type": "stream",
     "text": [
      "bureau_balance shape: (27299925, 3)\n",
      "bureau shape: (1716428, 17)\n",
      "previous_application shape: (1670214, 37)\n",
      "pos_cash_balance shape: (10001358, 8)\n",
      "credit_card_balance shape: (3840312, 23)\n",
      "installment_payment shape: (13605401, 8)\n",
      "train shape: (307511, 122)\n",
      "test shape: (48744, 121)\n"
     ]
    }
   ],
   "source": [
    "#train, test, y = merge_data()"
   ]
  },
  {
   "cell_type": "code",
   "execution_count": null,
   "metadata": {
    "collapsed": true
   },
   "outputs": [],
   "source": []
  }
 ],
 "metadata": {
  "kernelspec": {
   "display_name": "Python 3",
   "language": "python",
   "name": "python3"
  },
  "language_info": {
   "codemirror_mode": {
    "name": "ipython",
    "version": 3
   },
   "file_extension": ".py",
   "mimetype": "text/x-python",
   "name": "python",
   "nbconvert_exporter": "python",
   "pygments_lexer": "ipython3",
   "version": "3.5.4"
  }
 },
 "nbformat": 4,
 "nbformat_minor": 2
}
